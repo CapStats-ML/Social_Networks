{
 "cells": [
  {
   "cell_type": "markdown",
   "id": "407374f2-59b0-4668-8f9a-b24dc317d21f",
   "metadata": {},
   "source": [
    "## Taller 2"
   ]
  },
  {
   "cell_type": "markdown",
   "id": "032f7930-fabe-4334-b7cf-9b3243559a4d",
   "metadata": {},
   "source": [
    "**6.**  El conjunto de datos `comtrade.RData` contiene un arreglo de cuatro dimensiones denominado `comtrade`. Los nombres de las dimensiones son: países, años (1996-2005) y clases de productos diferentes. Puedes cargar los datos con el siguiente código en R:\n",
    "\n",
    "```R\n",
    "datos <- load(\"comtrade.RData\")\n",
    "dimnames(comtrade)[c(1, 3, 4)]\n"
   ]
  },
  {
   "cell_type": "markdown",
   "id": "2faf9431-ea3f-4150-8598-376213724877",
   "metadata": {},
   "source": [
    "**a)** Calcule el aumento medio global $\\bar{Y}$ a lo largo de los 10 años en bienes manufacturados. Para ello considere la matriz de adyacencia $Y$ dada por:\n",
    "\n",
    "```R\n",
    "Y <- apply(X = comtrade[, , c(5, 6)], MARGIN = c(1, 2), FUN = mean)\n",
    "\n"
   ]
  },
  {
   "cell_type": "markdown",
   "id": "82ab838c-4e14-438a-9acc-72bdf61abde0",
   "metadata": {},
   "source": [
    "Se ejecutaron ambos comandos en `R` y se exporto la matriz Y como archivo csv con la libreria `pandas`."
   ]
  },
  {
   "cell_type": "code",
   "execution_count": 1,
   "id": "13a05c50-872c-42be-9128-b9a07edac906",
   "metadata": {},
   "outputs": [],
   "source": [
    "import pandas as pd\n",
    "import numpy as np\n",
    "import igraph as ig\n",
    "from plotnine import *\n"
   ]
  },
  {
   "cell_type": "code",
   "execution_count": 2,
   "id": "6e9cedc6-df78-475e-9a49-ff9f7a167209",
   "metadata": {},
   "outputs": [
    {
     "ename": "FileNotFoundError",
     "evalue": "[Errno 2] No such file or directory: 'Y.csv'",
     "output_type": "error",
     "traceback": [
      "\u001b[1;31m---------------------------------------------------------------------------\u001b[0m",
      "\u001b[1;31mFileNotFoundError\u001b[0m                         Traceback (most recent call last)",
      "Cell \u001b[1;32mIn[2], line 1\u001b[0m\n\u001b[1;32m----> 1\u001b[0m Y \u001b[38;5;241m=\u001b[39m pd\u001b[38;5;241m.\u001b[39mread_csv(\u001b[38;5;124m'\u001b[39m\u001b[38;5;124mY.csv\u001b[39m\u001b[38;5;124m'\u001b[39m, index_col\u001b[38;5;241m=\u001b[39m\u001b[38;5;241m0\u001b[39m) \n\u001b[0;32m      2\u001b[0m Y\u001b[38;5;241m.\u001b[39mhead()\n",
      "File \u001b[1;32m~\\miniconda3\\envs\\Redes\\Lib\\site-packages\\pandas\\io\\parsers\\readers.py:948\u001b[0m, in \u001b[0;36mread_csv\u001b[1;34m(filepath_or_buffer, sep, delimiter, header, names, index_col, usecols, dtype, engine, converters, true_values, false_values, skipinitialspace, skiprows, skipfooter, nrows, na_values, keep_default_na, na_filter, verbose, skip_blank_lines, parse_dates, infer_datetime_format, keep_date_col, date_parser, date_format, dayfirst, cache_dates, iterator, chunksize, compression, thousands, decimal, lineterminator, quotechar, quoting, doublequote, escapechar, comment, encoding, encoding_errors, dialect, on_bad_lines, delim_whitespace, low_memory, memory_map, float_precision, storage_options, dtype_backend)\u001b[0m\n\u001b[0;32m    935\u001b[0m kwds_defaults \u001b[38;5;241m=\u001b[39m _refine_defaults_read(\n\u001b[0;32m    936\u001b[0m     dialect,\n\u001b[0;32m    937\u001b[0m     delimiter,\n\u001b[1;32m   (...)\u001b[0m\n\u001b[0;32m    944\u001b[0m     dtype_backend\u001b[38;5;241m=\u001b[39mdtype_backend,\n\u001b[0;32m    945\u001b[0m )\n\u001b[0;32m    946\u001b[0m kwds\u001b[38;5;241m.\u001b[39mupdate(kwds_defaults)\n\u001b[1;32m--> 948\u001b[0m \u001b[38;5;28;01mreturn\u001b[39;00m _read(filepath_or_buffer, kwds)\n",
      "File \u001b[1;32m~\\miniconda3\\envs\\Redes\\Lib\\site-packages\\pandas\\io\\parsers\\readers.py:611\u001b[0m, in \u001b[0;36m_read\u001b[1;34m(filepath_or_buffer, kwds)\u001b[0m\n\u001b[0;32m    608\u001b[0m _validate_names(kwds\u001b[38;5;241m.\u001b[39mget(\u001b[38;5;124m\"\u001b[39m\u001b[38;5;124mnames\u001b[39m\u001b[38;5;124m\"\u001b[39m, \u001b[38;5;28;01mNone\u001b[39;00m))\n\u001b[0;32m    610\u001b[0m \u001b[38;5;66;03m# Create the parser.\u001b[39;00m\n\u001b[1;32m--> 611\u001b[0m parser \u001b[38;5;241m=\u001b[39m TextFileReader(filepath_or_buffer, \u001b[38;5;241m*\u001b[39m\u001b[38;5;241m*\u001b[39mkwds)\n\u001b[0;32m    613\u001b[0m \u001b[38;5;28;01mif\u001b[39;00m chunksize \u001b[38;5;129;01mor\u001b[39;00m iterator:\n\u001b[0;32m    614\u001b[0m     \u001b[38;5;28;01mreturn\u001b[39;00m parser\n",
      "File \u001b[1;32m~\\miniconda3\\envs\\Redes\\Lib\\site-packages\\pandas\\io\\parsers\\readers.py:1448\u001b[0m, in \u001b[0;36mTextFileReader.__init__\u001b[1;34m(self, f, engine, **kwds)\u001b[0m\n\u001b[0;32m   1445\u001b[0m     \u001b[38;5;28mself\u001b[39m\u001b[38;5;241m.\u001b[39moptions[\u001b[38;5;124m\"\u001b[39m\u001b[38;5;124mhas_index_names\u001b[39m\u001b[38;5;124m\"\u001b[39m] \u001b[38;5;241m=\u001b[39m kwds[\u001b[38;5;124m\"\u001b[39m\u001b[38;5;124mhas_index_names\u001b[39m\u001b[38;5;124m\"\u001b[39m]\n\u001b[0;32m   1447\u001b[0m \u001b[38;5;28mself\u001b[39m\u001b[38;5;241m.\u001b[39mhandles: IOHandles \u001b[38;5;241m|\u001b[39m \u001b[38;5;28;01mNone\u001b[39;00m \u001b[38;5;241m=\u001b[39m \u001b[38;5;28;01mNone\u001b[39;00m\n\u001b[1;32m-> 1448\u001b[0m \u001b[38;5;28mself\u001b[39m\u001b[38;5;241m.\u001b[39m_engine \u001b[38;5;241m=\u001b[39m \u001b[38;5;28mself\u001b[39m\u001b[38;5;241m.\u001b[39m_make_engine(f, \u001b[38;5;28mself\u001b[39m\u001b[38;5;241m.\u001b[39mengine)\n",
      "File \u001b[1;32m~\\miniconda3\\envs\\Redes\\Lib\\site-packages\\pandas\\io\\parsers\\readers.py:1705\u001b[0m, in \u001b[0;36mTextFileReader._make_engine\u001b[1;34m(self, f, engine)\u001b[0m\n\u001b[0;32m   1703\u001b[0m     \u001b[38;5;28;01mif\u001b[39;00m \u001b[38;5;124m\"\u001b[39m\u001b[38;5;124mb\u001b[39m\u001b[38;5;124m\"\u001b[39m \u001b[38;5;129;01mnot\u001b[39;00m \u001b[38;5;129;01min\u001b[39;00m mode:\n\u001b[0;32m   1704\u001b[0m         mode \u001b[38;5;241m+\u001b[39m\u001b[38;5;241m=\u001b[39m \u001b[38;5;124m\"\u001b[39m\u001b[38;5;124mb\u001b[39m\u001b[38;5;124m\"\u001b[39m\n\u001b[1;32m-> 1705\u001b[0m \u001b[38;5;28mself\u001b[39m\u001b[38;5;241m.\u001b[39mhandles \u001b[38;5;241m=\u001b[39m get_handle(\n\u001b[0;32m   1706\u001b[0m     f,\n\u001b[0;32m   1707\u001b[0m     mode,\n\u001b[0;32m   1708\u001b[0m     encoding\u001b[38;5;241m=\u001b[39m\u001b[38;5;28mself\u001b[39m\u001b[38;5;241m.\u001b[39moptions\u001b[38;5;241m.\u001b[39mget(\u001b[38;5;124m\"\u001b[39m\u001b[38;5;124mencoding\u001b[39m\u001b[38;5;124m\"\u001b[39m, \u001b[38;5;28;01mNone\u001b[39;00m),\n\u001b[0;32m   1709\u001b[0m     compression\u001b[38;5;241m=\u001b[39m\u001b[38;5;28mself\u001b[39m\u001b[38;5;241m.\u001b[39moptions\u001b[38;5;241m.\u001b[39mget(\u001b[38;5;124m\"\u001b[39m\u001b[38;5;124mcompression\u001b[39m\u001b[38;5;124m\"\u001b[39m, \u001b[38;5;28;01mNone\u001b[39;00m),\n\u001b[0;32m   1710\u001b[0m     memory_map\u001b[38;5;241m=\u001b[39m\u001b[38;5;28mself\u001b[39m\u001b[38;5;241m.\u001b[39moptions\u001b[38;5;241m.\u001b[39mget(\u001b[38;5;124m\"\u001b[39m\u001b[38;5;124mmemory_map\u001b[39m\u001b[38;5;124m\"\u001b[39m, \u001b[38;5;28;01mFalse\u001b[39;00m),\n\u001b[0;32m   1711\u001b[0m     is_text\u001b[38;5;241m=\u001b[39mis_text,\n\u001b[0;32m   1712\u001b[0m     errors\u001b[38;5;241m=\u001b[39m\u001b[38;5;28mself\u001b[39m\u001b[38;5;241m.\u001b[39moptions\u001b[38;5;241m.\u001b[39mget(\u001b[38;5;124m\"\u001b[39m\u001b[38;5;124mencoding_errors\u001b[39m\u001b[38;5;124m\"\u001b[39m, \u001b[38;5;124m\"\u001b[39m\u001b[38;5;124mstrict\u001b[39m\u001b[38;5;124m\"\u001b[39m),\n\u001b[0;32m   1713\u001b[0m     storage_options\u001b[38;5;241m=\u001b[39m\u001b[38;5;28mself\u001b[39m\u001b[38;5;241m.\u001b[39moptions\u001b[38;5;241m.\u001b[39mget(\u001b[38;5;124m\"\u001b[39m\u001b[38;5;124mstorage_options\u001b[39m\u001b[38;5;124m\"\u001b[39m, \u001b[38;5;28;01mNone\u001b[39;00m),\n\u001b[0;32m   1714\u001b[0m )\n\u001b[0;32m   1715\u001b[0m \u001b[38;5;28;01massert\u001b[39;00m \u001b[38;5;28mself\u001b[39m\u001b[38;5;241m.\u001b[39mhandles \u001b[38;5;129;01mis\u001b[39;00m \u001b[38;5;129;01mnot\u001b[39;00m \u001b[38;5;28;01mNone\u001b[39;00m\n\u001b[0;32m   1716\u001b[0m f \u001b[38;5;241m=\u001b[39m \u001b[38;5;28mself\u001b[39m\u001b[38;5;241m.\u001b[39mhandles\u001b[38;5;241m.\u001b[39mhandle\n",
      "File \u001b[1;32m~\\miniconda3\\envs\\Redes\\Lib\\site-packages\\pandas\\io\\common.py:863\u001b[0m, in \u001b[0;36mget_handle\u001b[1;34m(path_or_buf, mode, encoding, compression, memory_map, is_text, errors, storage_options)\u001b[0m\n\u001b[0;32m    858\u001b[0m \u001b[38;5;28;01melif\u001b[39;00m \u001b[38;5;28misinstance\u001b[39m(handle, \u001b[38;5;28mstr\u001b[39m):\n\u001b[0;32m    859\u001b[0m     \u001b[38;5;66;03m# Check whether the filename is to be opened in binary mode.\u001b[39;00m\n\u001b[0;32m    860\u001b[0m     \u001b[38;5;66;03m# Binary mode does not support 'encoding' and 'newline'.\u001b[39;00m\n\u001b[0;32m    861\u001b[0m     \u001b[38;5;28;01mif\u001b[39;00m ioargs\u001b[38;5;241m.\u001b[39mencoding \u001b[38;5;129;01mand\u001b[39;00m \u001b[38;5;124m\"\u001b[39m\u001b[38;5;124mb\u001b[39m\u001b[38;5;124m\"\u001b[39m \u001b[38;5;129;01mnot\u001b[39;00m \u001b[38;5;129;01min\u001b[39;00m ioargs\u001b[38;5;241m.\u001b[39mmode:\n\u001b[0;32m    862\u001b[0m         \u001b[38;5;66;03m# Encoding\u001b[39;00m\n\u001b[1;32m--> 863\u001b[0m         handle \u001b[38;5;241m=\u001b[39m \u001b[38;5;28mopen\u001b[39m(\n\u001b[0;32m    864\u001b[0m             handle,\n\u001b[0;32m    865\u001b[0m             ioargs\u001b[38;5;241m.\u001b[39mmode,\n\u001b[0;32m    866\u001b[0m             encoding\u001b[38;5;241m=\u001b[39mioargs\u001b[38;5;241m.\u001b[39mencoding,\n\u001b[0;32m    867\u001b[0m             errors\u001b[38;5;241m=\u001b[39merrors,\n\u001b[0;32m    868\u001b[0m             newline\u001b[38;5;241m=\u001b[39m\u001b[38;5;124m\"\u001b[39m\u001b[38;5;124m\"\u001b[39m,\n\u001b[0;32m    869\u001b[0m         )\n\u001b[0;32m    870\u001b[0m     \u001b[38;5;28;01melse\u001b[39;00m:\n\u001b[0;32m    871\u001b[0m         \u001b[38;5;66;03m# Binary mode\u001b[39;00m\n\u001b[0;32m    872\u001b[0m         handle \u001b[38;5;241m=\u001b[39m \u001b[38;5;28mopen\u001b[39m(handle, ioargs\u001b[38;5;241m.\u001b[39mmode)\n",
      "\u001b[1;31mFileNotFoundError\u001b[0m: [Errno 2] No such file or directory: 'Y.csv'"
     ]
    }
   ],
   "source": [
    "Y = pd.read_csv('Y.csv', index_col=0) \n",
    "Y.head() "
   ]
  },
  {
   "cell_type": "markdown",
   "id": "a8df1641-cd45-4f50-8891-1e03c1d00520",
   "metadata": {},
   "source": [
    "**b)** Calcule la media de todas las observaciones de cada fila de *Y*, es decir, calcule la media fila $ \\overline{y}_{i \\cdot} = \\frac{1}{n-1} \\sum_{j: j \\neq i} y_{i,j} $ para cada país. Realice un histograma de los promedios fila $ \\overline{y}_{i \\cdot} $. Los promedios fila caracterizan diferentes niveles de actividad de los nodos en términos de la sociabilidad. ¿Cómo se pueden interpretar los promedios fila $ \\overline{y}_{i \\cdot} $ en este caso?\n"
   ]
  },
  {
   "cell_type": "code",
   "execution_count": null,
   "id": "06b236bd-bb94-48d3-99d4-fcdc5a340e95",
   "metadata": {},
   "outputs": [],
   "source": [
    "yi_=Y.apply(np.mean, axis=1) # axis 1 para fila y np.mean indica la funcion empleada\n",
    "yi_.head()"
   ]
  },
  {
   "cell_type": "code",
   "execution_count": null,
   "id": "8bc2df2e-826b-43d2-84a0-4b6e734ba5a8",
   "metadata": {},
   "outputs": [],
   "source": [
    "# Crear un DataFrame con los promedios fila y los países\n",
    "df = pd.DataFrame({'País': yi_.index, 'Promedio': yi_.values})\n",
    "\n",
    "# Crear el histograma usando ggplot\n",
    "histograma = (\n",
    "    ggplot(df, aes(x='País', y='Promedio')) +\n",
    "    geom_bar(stat='identity', fill='pink', color='black') +\n",
    "    labs(title='Promedio de las filas por país', x='País', y='Promedio') +\n",
    "    theme(axis_text_x=element_text(angle=90, hjust=1))  # Rotar etiquetas del eje x\n",
    ")\n",
    "\n",
    "# Mostrar el histograma\n",
    "histograma.show()"
   ]
  },
  {
   "cell_type": "markdown",
   "id": "09ac950d-a96f-46de-a484-05884f266e69",
   "metadata": {},
   "source": [
    "Los promedios fila se pueden interpretar como el número promedio de nuevas exportaciones de bienes manufacturados que ha creado cada país en los diez años."
   ]
  },
  {
   "cell_type": "markdown",
   "id": "083af2cc-e781-4911-a115-8578de267b02",
   "metadata": {},
   "source": [
    "**c)** \n",
    "Calcule la media de todas las observaciones de cada columna de *Y*, es decir, calcule la media columna $ \\bar{y}_{j} = \\frac{1}{n-1} \\sum_{i: i \\neq j} y_{i,j} $ para cada país. Realice un histograma de los promedios columna $ \\bar{y}_{j} $. Los promedios columna caracterizan diferentes niveles de actividad de los nodos en términos de la popularidad. ¿Cómo se pueden interpretar los promedio columna $ \\bar{y}_{j} $ en este caso?\r",
    "\r\n",
    "\r\n"
   ]
  },
  {
   "cell_type": "code",
   "execution_count": null,
   "id": "7dcdee42-c8f7-48c5-b127-57ba7aa38a22",
   "metadata": {},
   "outputs": [],
   "source": [
    "\n",
    "yj_=Y.apply(np.mean, axis=0) # axis 0 para columna y np.mean indica la funcion empleada\n",
    "yj_.head()"
   ]
  },
  {
   "cell_type": "code",
   "execution_count": null,
   "id": "1d0145b3-be56-41f8-91f6-bd9315df7662",
   "metadata": {},
   "outputs": [],
   "source": [
    "# Crear un DataFrame con los promedios fila y los países\n",
    "df = pd.DataFrame({'País': yj_.index, 'Promedio': yj_.values})\n",
    "\n",
    "# Crear el histograma usando ggplot\n",
    "histograma = (\n",
    "    ggplot(df, aes(x='País', y='Promedio')) +\n",
    "    geom_bar(stat='identity', fill='lightblue', color='black') +\n",
    "    labs(title='Promedio de las filas por país', x='País', y='Promedio') +\n",
    "    theme(axis_text_x=element_text(angle=90, hjust=1))  # Rotar etiquetas del eje x\n",
    ")\n",
    "\n",
    "# Mostrar el histograma\n",
    "histograma.show()"
   ]
  },
  {
   "cell_type": "markdown",
   "id": "170502cf-0b3e-4823-bb0e-fabb7a5ecd69",
   "metadata": {},
   "source": [
    "Los promedios columnas se pueden interpretar como el número promedio de nuevas importaciones de bienes manufacturados que ha creado cada país en los diez años."
   ]
  },
  {
   "cell_type": "markdown",
   "id": "dab6fbac-44ec-467d-80ba-dbb1485f3214",
   "metadata": {},
   "source": [
    "**c)**  Calcule tanto la media de los promedios fila $ \\bar{y}_{i \\cdot} $ como la media de los promedios columna $ \\bar{y}_{\\cdot j} $. ¿Qué se puede concluir?\n"
   ]
  },
  {
   "cell_type": "code",
   "execution_count": null,
   "id": "0e38b527-fb02-44e1-ac10-25e3cc2e2765",
   "metadata": {},
   "outputs": [],
   "source": [
    "print('La media de los promedio filas es:' + str(np.mean(yj_)) + '\\nLa media de los promedios column es:' + str(np.mean(yi_)))"
   ]
  },
  {
   "cell_type": "markdown",
   "id": "1768307a-eb52-4993-9544-83f48092a471",
   "metadata": {},
   "source": [
    "Se puede observar claramente que al aumentar las exportaciones a nivel mundial, también aumentan las importaciones en la misma cantidad. De la misma manera, cuando las exportaciones aumentan, las importaciones también lo hacen en la misma cantidad."
   ]
  },
  {
   "cell_type": "markdown",
   "id": "052bf1e9-464f-4c3d-a70d-aba6cbca429d",
   "metadata": {},
   "source": [
    "**e)** Calcule tanto la DE de los promedios fila $ \\bar{y}_{i \\cdot} $ como la DE de los promedios columna $ \\bar{y}_{\\cdot j} $. ¿Qué se puede concluir?\n"
   ]
  },
  {
   "cell_type": "code",
   "execution_count": null,
   "id": "47bd2869-4379-4b97-8b05-a7b305392291",
   "metadata": {},
   "outputs": [],
   "source": [
    "print('La DE de los promedio filas es:' + str(np.std(yj_)) + '\\nLa DE de los promedios column es:' + str(np.std(yi_)))"
   ]
  },
  {
   "cell_type": "markdown",
   "id": "d7d767c6-3b72-43fd-8071-7e6501b17966",
   "metadata": {},
   "source": [
    "Lo que se puede concluir a partir de estos valores es que el número de nuevas exportaciones es más heterogéneo que el ritmo de nuevas importaciones."
   ]
  },
  {
   "cell_type": "markdown",
   "id": "5c6cb6ee-5a5d-4720-b72a-5a4e67e3421e",
   "metadata": {},
   "source": [
    "**f)** Calcule el coeficiente de correlación entre los promedios fila $ \\bar{y}_{i \\cdot} $ y los promedios columna $ \\bar{y}_{\\cdot j} $. Realice un dispersograma de los promedios columna $ \\bar{y}_{\\cdot j} $ (eje $ y $) frente a los promedios fila $ \\bar{y}_{i \\cdot} $ (eje $ x $), junto con la recta $ y = x $ como punto de referencia. ¿Qué se puede concluir?\n"
   ]
  },
  {
   "cell_type": "code",
   "execution_count": null,
   "id": "dd403856-5d0d-48b3-9f10-bfad68774981",
   "metadata": {},
   "outputs": [],
   "source": [
    "df = pd.DataFrame({'País': yj_.index, 'Promedio Columna': yj_.values,'Promedio Fila': yi_.values})"
   ]
  },
  {
   "cell_type": "code",
   "execution_count": null,
   "id": "c10ebb5a-6d55-4fd4-8b90-666ef8e98c83",
   "metadata": {},
   "outputs": [],
   "source": [
    "print('El coeficiente de correlacións es:'+ str(np.corrcoef(yj_, yi_)[0][1]))"
   ]
  },
  {
   "cell_type": "code",
   "execution_count": null,
   "id": "b40c3901-c5b7-4473-951b-36f64e1a7a0d",
   "metadata": {},
   "outputs": [],
   "source": [
    "(ggplot(df, aes(x=\"Promedio Columna\", y=\"Promedio Fila\")) +\n",
    " geom_point(color=\"black\", shape=\"o\", size=1) +\n",
    " geom_abline(intercept=0, slope=1, linetype=\"solid\", color=\"darkblue\")\n",
    ")"
   ]
  },
  {
   "cell_type": "markdown",
   "id": "e4a36d2d-268a-49d8-8a68-9b7952569077",
   "metadata": {},
   "source": [
    "Se puede apreciar cierto tipo de relación lineal entre los promedios columna y los promedios fila, lo que indica que cuando un país aumenta sus nuevas exportaciones, también tiende a aumentar el número de importaciones."
   ]
  },
  {
   "cell_type": "markdown",
   "id": "cbe7d549-51c7-43b9-b869-39631077e0c0",
   "metadata": {},
   "source": [
    "**7.** Considere el conjunto de datos dado en `conflict.RData` recopilado por Mike Ward y Xun Cao del departamento de Ciencias Políticas de la Universidad de Washington. Estos datos están asociados con datos de conflictos entre países en los años 90. El archivo `conflict.RData` contiene una lista con tres arreglos: `X`, `Y`, y `D`. \r\n",
    "\r\n",
    "- `X` tiene tres campos: \r\n",
    "  - `population` (población en millones), \r\n",
    "  - `gdp` (PIB en millones de dólares), \r\n",
    "  - `polity` (puntuación política: índice de democracia).\r\n",
    "  \r\n",
    "- `Y` hace referencia a una matriz Y = [y_i,j] en la que y_i,j representa el número de conflictos iniciados por el país i hacia el país j.\r\n",
    "\r\n",
    "- Finalmente, `D` es un arreglo de tres dimensiones cuya tercera dimensión contiene índices entre cada par de países asociados con: comercio (dimensión 1), importaciones (dimensión 2), organizaciones intergubernamentales (dimensión 3) y distancia geográfica (dimensión 4).\r\n"
   ]
  },
  {
   "cell_type": "markdown",
   "id": "b31a79f5-cdfa-48b9-a81c-48485c981f83",
   "metadata": {},
   "source": [
    "Se importa el contenido de R a python"
   ]
  },
  {
   "cell_type": "code",
   "execution_count": null,
   "id": "01d2cfc1-5d26-48a2-b6c7-7df1b35e216b",
   "metadata": {},
   "outputs": [],
   "source": [
    "D = np.loadtxt(\"D.txt\")  # Saltamos la primera fila que contiene los nombres de las columnas"
   ]
  },
  {
   "cell_type": "code",
   "execution_count": null,
   "id": "b2a20712-2b23-40ae-a710-0777b303d549",
   "metadata": {},
   "outputs": [],
   "source": [
    "Y = pd.read_csv(\"Y.txt\", delimiter=\"\\t\")\n",
    "Y.head()"
   ]
  },
  {
   "cell_type": "code",
   "execution_count": null,
   "id": "ff6da194-d938-4302-8f5a-de1f20015ae0",
   "metadata": {},
   "outputs": [],
   "source": [
    "X = pd.read_csv(\"X.txt\", delimiter=\"\\t\")\n",
    "X.head()"
   ]
  },
  {
   "cell_type": "code",
   "execution_count": null,
   "id": "f3006bec-8c9b-4c77-bd47-9106743abb90",
   "metadata": {},
   "outputs": [],
   "source": [
    "X['population']"
   ]
  },
  {
   "cell_type": "markdown",
   "id": "093b4451-27f6-4d2e-bb40-f85f714b5b9c",
   "metadata": {},
   "source": [
    "**(a)** Elabore una visualización decorada de la red de conflictos teniendo en cuenta diferentes diseños."
   ]
  },
  {
   "cell_type": "code",
   "execution_count": null,
   "id": "974a1864-cbc9-4c65-86a0-7d08acc00786",
   "metadata": {},
   "outputs": [],
   "source": [
    "g=ig.Graph.Adjacency(Y, mode= 'directed')  # No se pueden agregar los pesos por medio de esta funcion \n",
    "weights=[] # se hace manualmente\n",
    "for edge in g.es:\n",
    "   weights.append(Y.iloc[edge.tuple])\n",
    "\n",
    "g.es['weight'] = weights\n",
    "g.is_weighted()"
   ]
  },
  {
   "cell_type": "code",
   "execution_count": null,
   "id": "6d51cfb3-6d9d-4bb1-9fea-955565756a7d",
   "metadata": {},
   "outputs": [],
   "source": [
    "# Asignar variables nodales\n",
    "g.vs['population'] = X['population'].tolist()\n",
    "g.vs['gdp'] = X['gdp'].tolist()\n",
    "g.vs['polity'] = X['polity'].tolist()"
   ]
  },
  {
   "cell_type": "code",
   "execution_count": null,
   "id": "4f0fa56c-df57-4055-8fbc-8e78ad345637",
   "metadata": {},
   "outputs": [],
   "source": [
    "# Establecer la semilla para la generación de números aleatorios\n",
    "np.random.seed(123)\n",
    "\n",
    "# Generar un diseño circular para el grafo con semilla 123\n",
    "layout = g.layout_davidson_harel()"
   ]
  },
  {
   "cell_type": "code",
   "execution_count": null,
   "id": "7331cb22-ea8c-43f5-b77f-ab4f6b7ca117",
   "metadata": {},
   "outputs": [],
   "source": [
    "ig.plot(g, layout=layout, edge_width=[weight * 0.3 for weight in weights])"
   ]
  },
  {
   "cell_type": "markdown",
   "id": "3a70d4a1-497b-430c-96cf-f8fc05caf29c",
   "metadata": {},
   "source": [
    "**b)** Calcule e interprete la media global."
   ]
  },
  {
   "cell_type": "code",
   "execution_count": null,
   "id": "9b794a35-6362-4589-b8ad-d9fea23f6f9b",
   "metadata": {},
   "outputs": [],
   "source": [
    "print('La media global es: '+str(round(sum(Y.stack())/(Y.shape[1]*(Y.shape[1]-1)),4)))\n",
    "\n",
    "# vectorizamos Y, Y luego sacamos el respectivo n con Y.shape"
   ]
  },
  {
   "cell_type": "markdown",
   "id": "5c852c33-8273-4f65-8fe0-851cba02c6b9",
   "metadata": {},
   "source": [
    "La posibilidad de que haya una nueva guerra entre dos paises culesquiera es de aproximadamente el 2%."
   ]
  },
  {
   "cell_type": "markdown",
   "id": "c4a64a1b-0a1d-48fe-82b5-9b3ec2232cc7",
   "metadata": {},
   "source": [
    "**c)**  Obtenga y grafique la distribución del  *\n",
    "ou -degre* \r\n",
    "y d *l\r",
    " in-deg*ee\r\n",
    ". Calu e e\r\n",
    "interprete la media y la desviación estándar de esta distribución."
   ]
  },
  {
   "cell_type": "code",
   "execution_count": null,
   "id": "dab9b737-037e-40e7-a615-ed503b6afe9a",
   "metadata": {},
   "outputs": [],
   "source": [
    "# Obtener los grados de salida y entrada de cada nodo\n",
    "out_degree = g.degree(mode='out')\n",
    "in_degree = g.degree(mode='in')\n",
    "\n",
    "# Crear DataFrames separados para los grados de salida y entrada\n",
    "out_degree = pd.DataFrame(out_degree, columns=['Out-Degree'])\n",
    "in_degree = pd.DataFrame(in_degree, columns=['In-Degree'])\n",
    "\n",
    "# Concatenar los DataFrames en uno solo\n",
    "degree = pd.concat([out_degree, in_degree], axis=1)\n",
    "\n",
    "#Cambiar el nombre de las filas\n",
    "degree.index=Y.index.tolist()"
   ]
  },
  {
   "cell_type": "code",
   "execution_count": null,
   "id": "52309ad1-4de2-460f-a9cd-704b1c6bb5b5",
   "metadata": {},
   "outputs": [],
   "source": [
    " degree[degree['In-Degree'] == 40]"
   ]
  },
  {
   "cell_type": "code",
   "execution_count": null,
   "id": "dc3cc650-700d-45d5-99b1-6d9d1cc26351",
   "metadata": {},
   "outputs": [],
   "source": [
    "total_observaciones = len(degree)\n",
    "histograma = (\n",
    "    ggplot(degree, aes(x='Out-Degree')) +\n",
    "    geom_histogram(aes(y='stat(count) / ' + str(total_observaciones)), binwidth=1, fill='lightblue', color='black') +  # Especifica el ancho de los bins como 1\n",
    "    labs(title='Histograma de Out-Degree', x='Out-Degree', y='Frecuencia Relativa')\n",
    ")\n",
    "histograma.show()"
   ]
  },
  {
   "cell_type": "code",
   "execution_count": null,
   "id": "0a63e278-c1f4-4578-b0bc-716a80c08624",
   "metadata": {},
   "outputs": [],
   "source": [
    "\n",
    "histograma = (\n",
    "    ggplot(degree, aes(x='In-Degree')) +\n",
    "    geom_histogram(aes(y='stat(count) / ' + str(total_observaciones)), binwidth=1, fill='pink', color='black') +  # Especifica el ancho de los bins como 1\n",
    "    labs(title='Histograma de In-Degree', x='In-Degree', y='Frecuencia Relativa')\n",
    ")\n",
    "histograma.show()"
   ]
  },
  {
   "cell_type": "code",
   "execution_count": null,
   "id": "ef736d8f-71cd-4c86-98b4-e37790d8ee2b",
   "metadata": {},
   "outputs": [],
   "source": [
    "print('media y desviación estándar del Out-Degree: ' + str (np.mean(g.degree(mode='out'))) + ' , '+ str(np.std(g.degree(mode='out')))) \n",
    "print('media y desviación estándar del In-Degree: ' + str (np.mean(g.degree(mode='in'))) + ' , '+ str(np.std(g.degree(mode='in'))))"
   ]
  },
  {
   "cell_type": "markdown",
   "id": "66b60740-35aa-44e8-8818-fe5215090b4b",
   "metadata": {},
   "source": [
    "**(d)** Calcule el coeficiente de correlación entre los valores del out-degree y el in-degree. Realice un dispersograma de los grados de entrada (eje y) frente a los grados de salida (eje x), junto con la recta y = x como punto de referencia. puede concluir?"
   ]
  },
  {
   "cell_type": "code",
   "execution_count": null,
   "id": "9c9a09d3-d1f7-4c12-baa9-40b10c678b5a",
   "metadata": {},
   "outputs": [],
   "source": [
    "print('El coeficiente de correlacións es:'+ str(np.corrcoef(degree['Out-Degree'],degree['In-Degree'])[0][1]))"
   ]
  },
  {
   "cell_type": "code",
   "execution_count": null,
   "id": "06c9c6f4-e682-46ba-be8b-786198951319",
   "metadata": {},
   "outputs": [],
   "source": [
    "(ggplot(degree, aes(y=\"Out-Degree\", x=\"In-Degree\")) +\n",
    " geom_point(color=\"black\", shape=\"o\", size=1) +\n",
    " geom_abline(intercept=0, slope=1, linetype=\"solid\", color=\"darkblue\")\n",
    ")"
   ]
  },
  {
   "cell_type": "markdown",
   "id": "ca1b9c0c-b937-484d-9314-9eb5a7e7549f",
   "metadata": {},
   "source": [
    "**(e)** Identifique los países mas activos de acuerdo con el grado."
   ]
  },
  {
   "cell_type": "code",
   "execution_count": null,
   "id": "0640ffbe-eec7-4f2e-9630-5e69b1af5917",
   "metadata": {},
   "outputs": [],
   "source": [
    "degree.sort_values(by=[\"Out-Degree\"],ascending=[False]).head()"
   ]
  },
  {
   "cell_type": "code",
   "execution_count": null,
   "id": "834c7083-84c0-41bd-addf-4b1b8e4e8849",
   "metadata": {},
   "outputs": [],
   "source": [
    "degree.sort_values(by=[\"In-Degree\"],ascending=[False]).head()"
   ]
  },
  {
   "cell_type": "markdown",
   "id": "2f62462e-8f24-43cf-930e-308884033d5a",
   "metadata": {},
   "source": [
    "### 8. Considere los datos relacionales acerca de los conflictos internacionales del archivo `conflict.RData` habiendo removido los nodos aislados:\r\n",
    "\r\n",
    "```R\r\n",
    "# datos\r\n",
    "load(\"conflict.RData\")\r\n",
    "Y <- dat$Y\r\n",
    "\r\n",
    "# remover nodos aislados\r\n",
    "Y <- 1 * (Y * t(Y) > 0)\r\n",
    "\r\n",
    "deg <- apply(X = Y, MARGIN = 1, FUN = sum, na.rm = TRUE)\r\n",
    "Y <- Y[deg > 0, deg > 0]\r\n"
   ]
  },
  {
   "cell_type": "code",
   "execution_count": null,
   "id": "54a7e514-3f5b-4815-bb4d-5e06ba3bead0",
   "metadata": {},
   "outputs": [],
   "source": [
    "Y = pd.read_csv(\"Y.txt\", delimiter=\"\\t\")\n"
   ]
  },
  {
   "cell_type": "code",
   "execution_count": null,
   "id": "aa905a4f-861f-43c3-82ca-36b0ba27ec34",
   "metadata": {
    "scrolled": true
   },
   "outputs": [],
   "source": [
    "Y = 1 * (Y * Y.T > 0)\n",
    "deg=(Y.apply(np.sum, axis=0))\n",
    "# Obtener los índices de las columnas con grado mayor que cero\n",
    "Y=Y.loc[:, deg > 0][deg > 0]"
   ]
  },
  {
   "cell_type": "code",
   "execution_count": null,
   "id": "9d09daed-f0fd-49fb-9411-66583d5e78d7",
   "metadata": {},
   "outputs": [],
   "source": [
    "g=ig.Graph.Adjacency(Y, mode= 'undirected')  # No se pueden agregar los pesos por medio de esta funcion \n",
    "weights=[] # se hace manualmente\n",
    "for edge in g.es:\n",
    "   weights.append(Y.iloc[edge.tuple])\n",
    "\n",
    "g.es['weight'] = weights\n",
    "g.is_weighted()"
   ]
  },
  {
   "cell_type": "markdown",
   "id": "f1caee95-6a76-4c03-8b3e-5272a37c4872",
   "metadata": {},
   "source": [
    "**a)** Elabore una visualización decorada de la red teniendo en cuenta diferentes .\n",
    "diseños"
   ]
  },
  {
   "cell_type": "code",
   "execution_count": null,
   "id": "37248395-6f80-4387-9635-71e5c8c9933d",
   "metadata": {},
   "outputs": [],
   "source": [
    "ig.plot(g)"
   ]
  },
  {
   "cell_type": "markdown",
   "id": "dcc3978f-2f16-4ee7-88f4-5ae30606a63c",
   "metadata": {},
   "source": [
    "**(b)** Identifique las componentes conectadas del grafo."
   ]
  },
  {
   "cell_type": "code",
   "execution_count": null,
   "id": "0d42a0a2-33eb-478b-b012-4bd00ac907a7",
   "metadata": {},
   "outputs": [],
   "source": [
    "Componentes=g.connected_components() \n",
    "Comp=[]\n",
    "for i in Componentes:\n",
    "    print(Y.columns[i])"
   ]
  },
  {
   "cell_type": "markdown",
   "id": "f3374700-11ab-4209-b202-e069f42eec65",
   "metadata": {},
   "source": [
    "**(c)** Identifique la componente gigante del grafo."
   ]
  },
  {
   "cell_type": "code",
   "execution_count": null,
   "id": "e19451d3-079d-49ab-ac6c-b5697e56ac97",
   "metadata": {},
   "outputs": [],
   "source": [
    "G=g.subgraph(Componentes[0])\n",
    "ig.plot(G)"
   ]
  },
  {
   "cell_type": "markdown",
   "id": "c550fc8d-cce3-40c6-bf40-7bf812060850",
   "metadata": {},
   "source": [
    "**d)** Calcule la matriz de distancias geodésicas de la componente gigante del grafo e incrustar estas distancias en un espacio de dos dimensiones por medio de escalamiento multidimensional ( cmdscale en R)."
   ]
  }
 ],
 "metadata": {
  "kernelspec": {
   "display_name": "Python 3 (ipykernel)",
   "language": "python",
   "name": "python3"
  },
  "language_info": {
   "codemirror_mode": {
    "name": "ipython",
    "version": 3
   },
   "file_extension": ".py",
   "mimetype": "text/x-python",
   "name": "python",
   "nbconvert_exporter": "python",
   "pygments_lexer": "ipython3",
   "version": "3.11.7"
  }
 },
 "nbformat": 4,
 "nbformat_minor": 5
}
