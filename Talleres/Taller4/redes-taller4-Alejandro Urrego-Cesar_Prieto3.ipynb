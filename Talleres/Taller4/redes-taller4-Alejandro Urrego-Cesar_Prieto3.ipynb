{
 "cells": [
  {
   "cell_type": "code",
   "execution_count": 1,
   "id": "ac0f586c-1df8-473f-b8c9-cab231f61151",
   "metadata": {},
   "outputs": [],
   "source": [
    "from youtube_transcript_api import YouTubeTranscriptApi\n",
    "from pytube import Playlist\n",
    "import re\n",
    "import os\n",
    "directorio='C:/Users/Pc/Desktop/Redes/transciptor/trscripcion'"
   ]
  },
  {
   "cell_type": "code",
   "execution_count": 2,
   "id": "61714665-bb77-417d-9a9e-b2a6bb0b98c5",
   "metadata": {},
   "outputs": [],
   "source": [
    "def get_playlist(playlists):\n",
    "    urls=[]\n",
    "    for playlist in playlists:\n",
    "        playlist_urls=Playlist(playlist)\n",
    "        for url in playlist_urls:\n",
    "            urls.append(url)\n",
    "    return(urls)"
   ]
  },
  {
   "cell_type": "code",
   "execution_count": 3,
   "id": "f8649e7d-2074-4593-a2a8-161fd203a650",
   "metadata": {},
   "outputs": [],
   "source": [
    "playlist=['https://www.youtube.com/playlist?list=PLbtegW3d3L4Id_lrAgBRDGf-k_bwEYH6_']\n",
    "urls=get_playlist(playlist)"
   ]
  },
  {
   "cell_type": "code",
   "execution_count": 4,
   "id": "9de84200-4e6e-417c-81bf-d09a704fd065",
   "metadata": {
    "scrolled": true
   },
   "outputs": [
    {
     "name": "stdout",
     "output_type": "stream",
     "text": [
      "El archivo transcripcion_wmQEL5_mKtY_1.txt no se encontró en la ruta especificada.\n",
      "El archivo transcripcion_YS7QTBPsGmA_1.txt no se encontró en la ruta especificada.\n",
      "El archivo transcripcion_ClJUD1-zj80_1.txt no se encontró en la ruta especificada.\n",
      "El archivo transcripcion_FoAy5Qfphcs_1.txt no se encontró en la ruta especificada.\n",
      "El archivo transcripcion_VSpKiFEOBSg_1.txt no se encontró en la ruta especificada.\n",
      "El archivo transcripcion_xuxtUERYNxk_1.txt no se encontró en la ruta especificada.\n",
      "El archivo transcripcion_uIHoKm5tM-o_1.txt no se encontró en la ruta especificada.\n",
      "El archivo transcripcion_6WD3FoCBsTc_1.txt no se encontró en la ruta especificada.\n",
      "El archivo transcripcion_9hucRGwQpic_1.txt no se encontró en la ruta especificada.\n",
      "El archivo transcripcion_VOFlxqzJqLw_1.txt no se encontró en la ruta especificada.\n",
      "El archivo transcripcion_NmU4Q32oLMM_1.txt no se encontró en la ruta especificada.\n",
      "El archivo transcripcion_vjzz91wkNHo_1.txt no se encontró en la ruta especificada.\n",
      "El archivo transcripcion_HS3oQWBvje8_1.txt no se encontró en la ruta especificada.\n",
      "El archivo transcripcion_mJX7VBllEQw_1.txt no se encontró en la ruta especificada.\n"
     ]
    }
   ],
   "source": [
    "\n",
    "# Lista para almacenar el contenido de los archivos\n",
    "contenido_concatenado = \"\"\n",
    "\n",
    "for url in urls:\n",
    "    patron = r'https://www.youtube.com/watch\\?v=(.+)'\n",
    "    coincidencias = re.search(patron, url)\n",
    "    if coincidencias:\n",
    "        id_video = coincidencias.group(1)\n",
    "        # Definir la ruta del archivo de destino\n",
    "        nombre_archivo = 'transcripcion_' + id_video + \"_\" + str(1) + \".txt\"\n",
    "        ruta_archivo = os.path.join(directorio, nombre_archivo)\n",
    "        \n",
    "        # Intentar abrir el archivo con diferentes encodings\n",
    "        try:\n",
    "            with open(ruta_archivo, 'r', encoding='utf-8') as archivo:\n",
    "                contenido = archivo.read()\n",
    "                contenido_concatenado += contenido\n",
    "        except FileNotFoundError:\n",
    "            print(f\"El archivo {nombre_archivo} no se encontró en la ruta especificada.\")\n",
    "            continue\n",
    "        except UnicodeDecodeError:\n",
    "            try:\n",
    "                with open(ruta_archivo, 'r', encoding='latin-1') as archivo:\n",
    "                    contenido = archivo.read()\n",
    "                    contenido_concatenado += contenido\n",
    "            except FileNotFoundError:\n",
    "                print(f\"El archivo {nombre_archivo} no se encontró en la ruta especificada.\")\n",
    "                continue\n",
    "\n"
   ]
  },
  {
   "cell_type": "code",
   "execution_count": 5,
   "id": "7465174b-87a4-45d8-a8d2-6cf21aaf6730",
   "metadata": {},
   "outputs": [],
   "source": [
    "# Definir la ruta del archivo de salida\n",
    "archivo_salida = os.path.join(directorio, 'contenido_concatenado.txt')\n",
    "\n",
    "# Guardar el contenido concatenado en un solo archivo\n",
    "with open(archivo_salida, 'w', encoding='utf-8') as salida:\n",
    "    salida.write(contenido_concatenado)"
   ]
  },
  {
   "cell_type": "code",
   "execution_count": null,
   "id": "da685244-1388-4eb6-a0d9-e0bbf3c75719",
   "metadata": {},
   "outputs": [],
   "source": []
  }
 ],
 "metadata": {
  "kernelspec": {
   "display_name": "Python 3 (ipykernel)",
   "language": "python",
   "name": "python3"
  },
  "language_info": {
   "codemirror_mode": {
    "name": "ipython",
    "version": 3
   },
   "file_extension": ".py",
   "mimetype": "text/x-python",
   "name": "python",
   "nbconvert_exporter": "python",
   "pygments_lexer": "ipython3",
   "version": "3.11.7"
  }
 },
 "nbformat": 4,
 "nbformat_minor": 5
}
